{
 "cells": [
  {
   "cell_type": "markdown",
   "id": "e512db7d-0c78-4797-a427-a4ea0a643353",
   "metadata": {},
   "source": [
    "# Climate Data"
   ]
  },
  {
   "cell_type": "code",
   "execution_count": null,
   "id": "bd686c8f-9315-430d-bfce-131c82ccf2b6",
   "metadata": {},
   "outputs": [],
   "source": [
    "import numpy as np\n",
    "import pandas as pd\n",
    "import matplotlib.pyplot as plt\n",
    "\n",
    "\n",
    "TempCountry = pd.read_csv(\"GlobalLandTemperaturesByCountry.csv\") # reads csv to df\n",
    "#TempCity = pd.read_csv(\"GlobalLandTemperaturesByCity.csv\")\n",
    "\n",
    "\n",
    "#print(TempCountry.columns)\n",
    "display(TempCountry)\n",
    "print('') \n",
    "#clearing rows with empty measurements\n",
    "TempCountry['AverageTemperature'].replace('', np.nan, inplace=True)\n",
    "TempCountry.dropna(subset=['AverageTemperature'], inplace=True)\n",
    "\n",
    "display(TempCountry) # see the difference?\n",
    "print('')\n",
    "Countries = pd.unique(TempCountry['Country'])\n",
    "n = Countries.size\n",
    "\n",
    "#Removing rows that are either repeats or noncountries\n",
    "#take a look at 'congo (democratic republic of the...)'' v. 'congo'\n",
    "TempCountryNew = TempCountry[~TempCountry['Country'].isin( ['Denmark', 'Antarctica', 'France', 'Europe', 'Netherlands',\n",
    "     'United Kingdom', 'Africa', 'South America'])]\n",
    "TempCountryNew = TempCountryNew.replace(['Denmark (Europe)', 'France (Europe)', 'Netherlands (Europe)', 'United Kingdom (Europe)'],\n",
    "   ['Denmark', 'France', 'Netherlands', 'United Kingdom'])\n",
    "\n",
    "print('')\n",
    "\n",
    "\n",
    "#print(index)\n",
    "#print(n)\n"
   ]
  },
  {
   "cell_type": "code",
   "execution_count": null,
   "id": "a866a706-b435-4bd0-9ba1-6af65042538b",
   "metadata": {},
   "outputs": [],
   "source": [
    "# Averaging all records by country\n",
    "\n",
    "\n",
    "rows = []\n",
    "for country in Countries:\n",
    "    MeanTemp = TempCountryNew[TempCountryNew['Country'] == country]['AverageTemperature'].mean()\n",
    "    rows.append([country,MeanTemp])\n",
    "    \n",
    "    \n",
    "OverallAverages = pd.DataFrame(rows, columns=[\"Country\",\"MeanTemp\"])\n",
    "OverallAverages = OverallAverages.sort_values(by=[\"MeanTemp\"], ascending=False )\n"
   ]
  },
  {
   "cell_type": "markdown",
   "id": "dc5f408e-2ab1-4e36-be19-a4d44184a372",
   "metadata": {},
   "source": [
    "## Who's the hottest?"
   ]
  },
  {
   "cell_type": "code",
   "execution_count": null,
   "id": "99a00638-6e86-4aed-8114-c976cb006289",
   "metadata": {},
   "outputs": [],
   "source": [
    "display(OverallAverages)\n",
    "OverallAverages.plot(kind='barh', figsize=(10,200)) # need to mess with this\n"
   ]
  },
  {
   "cell_type": "code",
   "execution_count": null,
   "id": "e2ddfed6-51ef-4b47-98d1-47cd4bd33136",
   "metadata": {},
   "outputs": [],
   "source": []
  },
  {
   "cell_type": "code",
   "execution_count": null,
   "id": "59f7ccbb-a2b9-46c6-81a1-ba9397c1ba0a",
   "metadata": {},
   "outputs": [],
   "source": []
  }
 ],
 "metadata": {
  "kernelspec": {
   "display_name": "Python 3",
   "language": "python",
   "name": "python3"
  },
  "language_info": {
   "codemirror_mode": {
    "name": "ipython",
    "version": 3
   },
   "file_extension": ".py",
   "mimetype": "text/x-python",
   "name": "python",
   "nbconvert_exporter": "python",
   "pygments_lexer": "ipython3",
   "version": "3.8.6"
  }
 },
 "nbformat": 4,
 "nbformat_minor": 5
}
